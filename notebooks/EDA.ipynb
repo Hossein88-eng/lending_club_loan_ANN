{
 "cells": [
  {
   "cell_type": "markdown",
   "id": "468dbc82",
   "metadata": {},
   "source": [
    "# Exploratory Data Analysis (EDA)\n",
    "\n",
    "## Aim of the Project:\n",
    "\n",
    "In this project, I set out to build a model that can predict whether a borrower is likely to repay a loan or default (charge-off), based on historical loan data. The dataset includes borrower information and the loan outcome, which allows us to frame this as a binary classification problem. The goal is to use this model for assessing new loan applicants and estimating their likelihood of repayment. While developing the model, I paid close attention to relevant classification metrics to evaluate performance and ensure the results are meaningful and actionable in a real-world lending scenario."
   ]
  },
  {
   "cell_type": "markdown",
   "id": "c793d56d",
   "metadata": {},
   "source": [
    "## About the LendingClub Data Set:\n",
    "\n",
    "----\n",
    "-----\n",
    "There are many LendingClub data sets on Kaggle. Here is the information on this particular data set:\n",
    "\n",
    "<table border=\"1\" class=\"dataframe\">\n",
    "  <thead>\n",
    "    <tr style=\"text-align: right;\">\n",
    "      <th></th>\n",
    "      <th>LoanStatNew</th>\n",
    "      <th>Description</th>\n",
    "    </tr>\n",
    "  </thead>\n",
    "  <tbody>\n",
    "    <tr>\n",
    "      <th>0</th>\n",
    "      <td>loan_amnt</td>\n",
    "      <td>The listed amount of the loan applied for by the borrower. If at some point in time, the credit department reduces the loan amount, then it will be reflected in this value.</td>\n",
    "    </tr>\n",
    "    <tr>\n",
    "      <th>1</th>\n",
    "      <td>term</td>\n",
    "      <td>The number of payments on the loan. Values are in months and can be either 36 or 60.</td>\n",
    "    </tr>\n",
    "    <tr>\n",
    "      <th>2</th>\n",
    "      <td>int_rate</td>\n",
    "      <td>Interest Rate on the loan</td>\n",
    "    </tr>\n",
    "    <tr>\n",
    "      <th>3</th>\n",
    "      <td>installment</td>\n",
    "      <td>The monthly payment owed by the borrower if the loan originates.</td>\n",
    "    </tr>\n",
    "    <tr>\n",
    "      <th>4</th>\n",
    "      <td>grade</td>\n",
    "      <td>LC assigned loan grade</td>\n",
    "    </tr>\n",
    "    <tr>\n",
    "      <th>5</th>\n",
    "      <td>sub_grade</td>\n",
    "      <td>LC assigned loan subgrade</td>\n",
    "    </tr>\n",
    "    <tr>\n",
    "      <th>6</th>\n",
    "      <td>emp_title</td>\n",
    "      <td>The job title supplied by the Borrower when applying for the loan.*</td>\n",
    "    </tr>\n",
    "    <tr>\n",
    "      <th>7</th>\n",
    "      <td>emp_length</td>\n",
    "      <td>Employment length in years. Possible values are between 0 and 10 where 0 means less than one year and 10 means ten or more years.</td>\n",
    "    </tr>\n",
    "    <tr>\n",
    "      <th>8</th>\n",
    "      <td>home_ownership</td>\n",
    "      <td>The home ownership status provided by the borrower during registration or obtained from the credit report. Our values are: RENT, OWN, MORTGAGE, OTHER</td>\n",
    "    </tr>\n",
    "    <tr>\n",
    "      <th>9</th>\n",
    "      <td>annual_inc</td>\n",
    "      <td>The self-reported annual income provided by the borrower during registration.</td>\n",
    "    </tr>\n",
    "    <tr>\n",
    "      <th>10</th>\n",
    "      <td>verification_status</td>\n",
    "      <td>Indicates if income was verified by LC, not verified, or if the income source was verified</td>\n",
    "    </tr>\n",
    "    <tr>\n",
    "      <th>11</th>\n",
    "      <td>issue_d</td>\n",
    "      <td>The month which the loan was funded</td>\n",
    "    </tr>\n",
    "    <tr>\n",
    "      <th>12</th>\n",
    "      <td>loan_status</td>\n",
    "      <td>Current status of the loan</td>\n",
    "    </tr>\n",
    "    <tr>\n",
    "      <th>13</th>\n",
    "      <td>purpose</td>\n",
    "      <td>A category provided by the borrower for the loan request.</td>\n",
    "    </tr>\n",
    "    <tr>\n",
    "      <th>14</th>\n",
    "      <td>title</td>\n",
    "      <td>The loan title provided by the borrower</td>\n",
    "    </tr>\n",
    "    <tr>\n",
    "      <th>15</th>\n",
    "      <td>zip_code</td>\n",
    "      <td>The first 3 numbers of the zip code provided by the borrower in the loan application.</td>\n",
    "    </tr>\n",
    "    <tr>\n",
    "      <th>16</th>\n",
    "      <td>addr_state</td>\n",
    "      <td>The state provided by the borrower in the loan application</td>\n",
    "    </tr>\n",
    "    <tr>\n",
    "      <th>17</th>\n",
    "      <td>dti</td>\n",
    "      <td>A ratio calculated using the borrower’s total monthly debt payments on the total debt obligations, excluding mortgage and the requested LC loan, divided by the borrower’s self-reported monthly income.</td>\n",
    "    </tr>\n",
    "    <tr>\n",
    "      <th>18</th>\n",
    "      <td>earliest_cr_line</td>\n",
    "      <td>The month the borrower's earliest reported credit line was opened</td>\n",
    "    </tr>\n",
    "    <tr>\n",
    "      <th>19</th>\n",
    "      <td>open_acc</td>\n",
    "      <td>The number of open credit lines in the borrower's credit file.</td>\n",
    "    </tr>\n",
    "    <tr>\n",
    "      <th>20</th>\n",
    "      <td>pub_rec</td>\n",
    "      <td>Number of derogatory public records</td>\n",
    "    </tr>\n",
    "    <tr>\n",
    "      <th>21</th>\n",
    "      <td>revol_bal</td>\n",
    "      <td>Total credit revolving balance</td>\n",
    "    </tr>\n",
    "    <tr>\n",
    "      <th>22</th>\n",
    "      <td>revol_util</td>\n",
    "      <td>Revolving line utilization rate, or the amount of credit the borrower is using relative to all available revolving credit.</td>\n",
    "    </tr>\n",
    "    <tr>\n",
    "      <th>23</th>\n",
    "      <td>total_acc</td>\n",
    "      <td>The total number of credit lines currently in the borrower's credit file</td>\n",
    "    </tr>\n",
    "    <tr>\n",
    "      <th>24</th>\n",
    "      <td>initial_list_status</td>\n",
    "      <td>The initial listing status of the loan. Possible values are – W, F</td>\n",
    "    </tr>\n",
    "    <tr>\n",
    "      <th>25</th>\n",
    "      <td>application_type</td>\n",
    "      <td>Indicates whether the loan is an individual application or a joint application with two co-borrowers</td>\n",
    "    </tr>\n",
    "    <tr>\n",
    "      <th>26</th>\n",
    "      <td>mort_acc</td>\n",
    "      <td>Number of mortgage accounts.</td>\n",
    "    </tr>\n",
    "    <tr>\n",
    "      <th>27</th>\n",
    "      <td>pub_rec_bankruptcies</td>\n",
    "      <td>Number of public record bankruptcies</td>\n",
    "    </tr>\n",
    "  </tbody>\n",
    "</table>\n",
    "\n",
    "---\n",
    "----"
   ]
  },
  {
   "cell_type": "code",
   "execution_count": 7,
   "id": "2a16e86b",
   "metadata": {},
   "outputs": [],
   "source": [
    "import pandas as pd\n",
    "import numpy as np\n",
    "import matplotlib.pyplot as plt\n",
    "import seaborn as sns\n",
    "from datetime import datetime\n",
    "import sys\n",
    "\n",
    "from project_package.exception.exception import ProjectException\n",
    "from project_package.logging.logger import logging\n",
    "\n",
    "%matplotlib inline"
   ]
  },
  {
   "cell_type": "code",
   "execution_count": null,
   "id": "2d44cb85",
   "metadata": {},
   "outputs": [],
   "source": [
    "try:\n",
    "    df = pd.read_csv(\"../Input_Data_File/lending_club_loan_before_EDA.csv\")\n",
    "except Exception as e:\n",
    "    raise ProjectException(e,sys)"
   ]
  },
  {
   "cell_type": "code",
   "execution_count": 9,
   "id": "6c6de733",
   "metadata": {},
   "outputs": [],
   "source": [
    "#df.info"
   ]
  },
  {
   "cell_type": "code",
   "execution_count": 10,
   "id": "b8dbf938",
   "metadata": {},
   "outputs": [
    {
     "data": {
      "text/plain": [
       "<Axes: xlabel='loan_status', ylabel='count'>"
      ]
     },
     "execution_count": 10,
     "metadata": {},
     "output_type": "execute_result"
    },
    {
     "data": {
      "image/png": "[encoded data removed]",
      "text/plain": [
       "<Figure size 640x480 with 1 Axes>"
      ]
     },
     "metadata": {},
     "output_type": "display_data"
    }
   ],
   "source": [
    "sns.countplot(x='loan_status', data=df, hue='loan_status', palette='Paired')"
   ]
  },
  {
   "cell_type": "code",
   "execution_count": 11,
   "id": "264c0c00",
   "metadata": {},
   "outputs": [
    {
     "data": {
      "image/png": "[encoded data removed]",
      "text/plain": [
       "<Figure size 500x500 with 1 Axes>"
      ]
     },
     "metadata": {},
     "output_type": "display_data"
    }
   ],
   "source": [
    "sns.displot(df['loan_amnt'], kde=False, bins=40, color='blue')\n",
    "plt.title('Distribution of Loan Amounts')\n",
    "plt.xlabel('Loan Amount')\n",
    "plt.ylabel('Frequency')\n",
    "plt.show()"
   ]
  },
  {
   "cell_type": "code",
   "execution_count": 12,
   "id": "ca1c0765",
   "metadata": {},
   "outputs": [
    {
     "data": {
      "text/html": [
       "<div>\n",
       "<style scoped>\n",
       "    .dataframe tbody tr th:only-of-type {\n",
       "        vertical-align: middle;\n",
       "    }\n",
       "\n",
       "    .dataframe tbody tr th {\n",
       "        vertical-align: top;\n",
       "    }\n",
       "\n",
       "    .dataframe thead th {\n",
       "        text-align: right;\n",
       "    }\n",
       "</style>\n",
       "<table border=\"1\" class=\"dataframe\">\n",
       "  <thead>\n",
       "    <tr style=\"text-align: right;\">\n",
       "      <th></th>\n",
       "      <th>loan_amnt</th>\n",
       "      <th>int_rate</th>\n",
       "      <th>installment</th>\n",
       "      <th>annual_inc</th>\n",
       "      <th>dti</th>\n",
       "      <th>open_acc</th>\n",
       "      <th>pub_rec</th>\n",
       "      <th>revol_bal</th>\n",
       "      <th>revol_util</th>\n",
       "      <th>total_acc</th>\n",
       "      <th>mort_acc</th>\n",
       "      <th>pub_rec_bankruptcies</th>\n",
       "    </tr>\n",
       "  </thead>\n",
       "  <tbody>\n",
       "    <tr>\n",
       "      <th>loan_amnt</th>\n",
       "      <td>1.000000</td>\n",
       "      <td>0.164069</td>\n",
       "      <td>0.951055</td>\n",
       "      <td>0.340729</td>\n",
       "      <td>0.042654</td>\n",
       "      <td>0.186570</td>\n",
       "      <td>-0.088156</td>\n",
       "      <td>0.350612</td>\n",
       "      <td>0.074616</td>\n",
       "      <td>0.224618</td>\n",
       "      <td>0.222791</td>\n",
       "      <td>-0.114292</td>\n",
       "    </tr>\n",
       "    <tr>\n",
       "      <th>int_rate</th>\n",
       "      <td>0.164069</td>\n",
       "      <td>1.000000</td>\n",
       "      <td>0.164327</td>\n",
       "      <td>-0.035859</td>\n",
       "      <td>0.172697</td>\n",
       "      <td>0.004989</td>\n",
       "      <td>0.087140</td>\n",
       "      <td>-0.013788</td>\n",
       "      <td>0.311421</td>\n",
       "      <td>-0.045031</td>\n",
       "      <td>-0.089294</td>\n",
       "      <td>0.078745</td>\n",
       "    </tr>\n",
       "    <tr>\n",
       "      <th>installment</th>\n",
       "      <td>0.951055</td>\n",
       "      <td>0.164327</td>\n",
       "      <td>1.000000</td>\n",
       "      <td>0.326010</td>\n",
       "      <td>0.035382</td>\n",
       "      <td>0.174944</td>\n",
       "      <td>-0.075611</td>\n",
       "      <td>0.331593</td>\n",
       "      <td>0.097025</td>\n",
       "      <td>0.198209</td>\n",
       "      <td>0.192672</td>\n",
       "      <td>-0.101360</td>\n",
       "    </tr>\n",
       "    <tr>\n",
       "      <th>annual_inc</th>\n",
       "      <td>0.340729</td>\n",
       "      <td>-0.035859</td>\n",
       "      <td>0.326010</td>\n",
       "      <td>1.000000</td>\n",
       "      <td>-0.188597</td>\n",
       "      <td>0.133768</td>\n",
       "      <td>-0.034322</td>\n",
       "      <td>0.325599</td>\n",
       "      <td>0.036472</td>\n",
       "      <td>0.197466</td>\n",
       "      <td>0.239765</td>\n",
       "      <td>-0.053497</td>\n",
       "    </tr>\n",
       "    <tr>\n",
       "      <th>dti</th>\n",
       "      <td>0.042654</td>\n",
       "      <td>0.172697</td>\n",
       "      <td>0.035382</td>\n",
       "      <td>-0.188597</td>\n",
       "      <td>1.000000</td>\n",
       "      <td>0.322021</td>\n",
       "      <td>-0.034449</td>\n",
       "      <td>0.161559</td>\n",
       "      <td>0.189901</td>\n",
       "      <td>0.247301</td>\n",
       "      <td>-0.025689</td>\n",
       "      <td>-0.039450</td>\n",
       "    </tr>\n",
       "    <tr>\n",
       "      <th>open_acc</th>\n",
       "      <td>0.186570</td>\n",
       "      <td>0.004989</td>\n",
       "      <td>0.174944</td>\n",
       "      <td>0.133768</td>\n",
       "      <td>0.322021</td>\n",
       "      <td>1.000000</td>\n",
       "      <td>-0.005400</td>\n",
       "      <td>0.262048</td>\n",
       "      <td>-0.130324</td>\n",
       "      <td>0.687401</td>\n",
       "      <td>0.120013</td>\n",
       "      <td>-0.029975</td>\n",
       "    </tr>\n",
       "    <tr>\n",
       "      <th>pub_rec</th>\n",
       "      <td>-0.088156</td>\n",
       "      <td>0.087140</td>\n",
       "      <td>-0.075611</td>\n",
       "      <td>-0.034322</td>\n",
       "      <td>-0.034449</td>\n",
       "      <td>-0.005400</td>\n",
       "      <td>1.000000</td>\n",
       "      <td>-0.131371</td>\n",
       "      <td>-0.083525</td>\n",
       "      <td>0.013485</td>\n",
       "      <td>0.021878</td>\n",
       "      <td>0.764675</td>\n",
       "    </tr>\n",
       "    <tr>\n",
       "      <th>revol_bal</th>\n",
       "      <td>0.350612</td>\n",
       "      <td>-0.013788</td>\n",
       "      <td>0.331593</td>\n",
       "      <td>0.325599</td>\n",
       "      <td>0.161559</td>\n",
       "      <td>0.262048</td>\n",
       "      <td>-0.131371</td>\n",
       "      <td>1.000000</td>\n",
       "      <td>0.257736</td>\n",
       "      <td>0.238603</td>\n",
       "      <td>0.240173</td>\n",
       "      <td>-0.144404</td>\n",
       "    </tr>\n",
       "    <tr>\n",
       "      <th>revol_util</th>\n",
       "      <td>0.074616</td>\n",
       "      <td>0.311421</td>\n",
       "      <td>0.097025</td>\n",
       "      <td>0.036472</td>\n",
       "      <td>0.189901</td>\n",
       "      <td>-0.130324</td>\n",
       "      <td>-0.083525</td>\n",
       "      <td>0.257736</td>\n",
       "      <td>1.000000</td>\n",
       "      <td>-0.099141</td>\n",
       "      <td>0.003262</td>\n",
       "      <td>-0.077788</td>\n",
       "    </tr>\n",
       "    <tr>\n",
       "      <th>total_acc</th>\n",
       "      <td>0.224618</td>\n",
       "      <td>-0.045031</td>\n",
       "      <td>0.198209</td>\n",
       "      <td>0.197466</td>\n",
       "      <td>0.247301</td>\n",
       "      <td>0.687401</td>\n",
       "      <td>0.013485</td>\n",
       "      <td>0.238603</td>\n",
       "      <td>-0.099141</td>\n",
       "      <td>1.000000</td>\n",
       "      <td>0.397388</td>\n",
       "      <td>0.015796</td>\n",
       "    </tr>\n",
       "    <tr>\n",
       "      <th>mort_acc</th>\n",
       "      <td>0.222791</td>\n",
       "      <td>-0.089294</td>\n",
       "      <td>0.192672</td>\n",
       "      <td>0.239765</td>\n",
       "      <td>-0.025689</td>\n",
       "      <td>0.120013</td>\n",
       "      <td>0.021878</td>\n",
       "      <td>0.240173</td>\n",
       "      <td>0.003262</td>\n",
       "      <td>0.397388</td>\n",
       "      <td>1.000000</td>\n",
       "      <td>0.032622</td>\n",
       "    </tr>\n",
       "    <tr>\n",
       "      <th>pub_rec_bankruptcies</th>\n",
       "      <td>-0.114292</td>\n",
       "      <td>0.078745</td>\n",
       "      <td>-0.101360</td>\n",
       "      <td>-0.053497</td>\n",
       "      <td>-0.039450</td>\n",
       "      <td>-0.029975</td>\n",
       "      <td>0.764675</td>\n",
       "      <td>-0.144404</td>\n",
       "      <td>-0.077788</td>\n",
       "      <td>0.015796</td>\n",
       "      <td>0.032622</td>\n",
       "      <td>1.000000</td>\n",
       "    </tr>\n",
       "  </tbody>\n",
       "</table>\n",
       "</div>"
      ],
      "text/plain": [
       "                      loan_amnt  int_rate  installment  annual_inc       dti  \\\n",
       "loan_amnt              1.000000  0.164069     0.951055    0.340729  0.042654   \n",
       "int_rate               0.164069  1.000000     0.164327   -0.035859  0.172697   \n",
       "installment            0.951055  0.164327     1.000000    0.326010  0.035382   \n",
       "annual_inc             0.340729 -0.035859     0.326010    1.000000 -0.188597   \n",
       "dti                    0.042654  0.172697     0.035382   -0.188597  1.000000   \n",
       "open_acc               0.186570  0.004989     0.174944    0.133768  0.322021   \n",
       "pub_rec               -0.088156  0.087140    -0.075611   -0.034322 -0.034449   \n",
       "revol_bal              0.350612 -0.013788     0.331593    0.325599  0.161559   \n",
       "revol_util             0.074616  0.311421     0.097025    0.036472  0.189901   \n",
       "total_acc              0.224618 -0.045031     0.198209    0.197466  0.247301   \n",
       "mort_acc               0.222791 -0.089294     0.192672    0.239765 -0.025689   \n",
       "pub_rec_bankruptcies  -0.114292  0.078745    -0.101360   -0.053497 -0.039450   \n",
       "\n",
       "                      open_acc   pub_rec  revol_bal  revol_util  total_acc  \\\n",
       "loan_amnt             0.186570 -0.088156   0.350612    0.074616   0.224618   \n",
       "int_rate              0.004989  0.087140  -0.013788    0.311421  -0.045031   \n",
       "installment           0.174944 -0.075611   0.331593    0.097025   0.198209   \n",
       "annual_inc            0.133768 -0.034322   0.325599    0.036472   0.197466   \n",
       "dti                   0.322021 -0.034449   0.161559    0.189901   0.247301   \n",
       "open_acc              1.000000 -0.005400   0.262048   -0.130324   0.687401   \n",
       "pub_rec              -0.005400  1.000000  -0.131371   -0.083525   0.013485   \n",
       "revol_bal             0.262048 -0.131371   1.000000    0.257736   0.238603   \n",
       "revol_util           -0.130324 -0.083525   0.257736    1.000000  -0.099141   \n",
       "total_acc             0.687401  0.013485   0.238603   -0.099141   1.000000   \n",
       "mort_acc              0.120013  0.021878   0.240173    0.003262   0.397388   \n",
       "pub_rec_bankruptcies -0.029975  0.764675  -0.144404   -0.077788   0.015796   \n",
       "\n",
       "                      mort_acc  pub_rec_bankruptcies  \n",
       "loan_amnt             0.222791             -0.114292  \n",
       "int_rate             -0.089294              0.078745  \n",
       "installment           0.192672             -0.101360  \n",
       "annual_inc            0.239765             -0.053497  \n",
       "dti                  -0.025689             -0.039450  \n",
       "open_acc              0.120013             -0.029975  \n",
       "pub_rec               0.021878              0.764675  \n",
       "revol_bal             0.240173             -0.144404  \n",
       "revol_util            0.003262             -0.077788  \n",
       "total_acc             0.397388              0.015796  \n",
       "mort_acc              1.000000              0.032622  \n",
       "pub_rec_bankruptcies  0.032622              1.000000  "
      ]
     },
     "execution_count": 12,
     "metadata": {},
     "output_type": "execute_result"
    }
   ],
   "source": [
    "numerical_columns = df.select_dtypes(include=[np.number]).columns.tolist()\n",
    "numerical_df = df[numerical_columns]\n",
    "numerical_df.corr()"
   ]
  },
  {
   "cell_type": "code",
   "execution_count": 13,
   "id": "7cf2a731",
   "metadata": {},
   "outputs": [
    {
     "data": {
      "text/plain": [
       "<Axes: >"
      ]
     },
     "execution_count": 13,
     "metadata": {},
     "output_type": "execute_result"
    },
    {
     "data": {
      "image/png": "[encoded data removed]",
      "text/plain": [
       "<Figure size 1200x800 with 2 Axes>"
      ]
     },
     "metadata": {},
     "output_type": "display_data"
    }
   ],
   "source": [
    "plt.figure(figsize=(12, 8))\n",
    "sns.heatmap(numerical_df.corr(), annot=True, cmap='viridis', fmt='.2f')"
   ]
  },
  {
   "cell_type": "code",
   "execution_count": 14,
   "id": "96dc87f1",
   "metadata": {},
   "outputs": [
    {
     "data": {
      "text/html": [
       "<div>\n",
       "<style scoped>\n",
       "    .dataframe tbody tr th:only-of-type {\n",
       "        vertical-align: middle;\n",
       "    }\n",
       "\n",
       "    .dataframe tbody tr th {\n",
       "        vertical-align: top;\n",
       "    }\n",
       "\n",
       "    .dataframe thead th {\n",
       "        text-align: right;\n",
       "    }\n",
       "</style>\n",
       "<table border=\"1\" class=\"dataframe\">\n",
       "  <thead>\n",
       "    <tr style=\"text-align: right;\">\n",
       "      <th>loan_status</th>\n",
       "      <th>Charged Off</th>\n",
       "      <th>Fully Paid</th>\n",
       "    </tr>\n",
       "  </thead>\n",
       "  <tbody>\n",
       "    <tr>\n",
       "      <th>count</th>\n",
       "      <td>957.000000</td>\n",
       "      <td>4042.000000</td>\n",
       "    </tr>\n",
       "    <tr>\n",
       "      <th>mean</th>\n",
       "      <td>14985.945664</td>\n",
       "      <td>13882.285997</td>\n",
       "    </tr>\n",
       "    <tr>\n",
       "      <th>std</th>\n",
       "      <td>8485.661267</td>\n",
       "      <td>8270.168843</td>\n",
       "    </tr>\n",
       "    <tr>\n",
       "      <th>min</th>\n",
       "      <td>1000.000000</td>\n",
       "      <td>900.000000</td>\n",
       "    </tr>\n",
       "    <tr>\n",
       "      <th>25%</th>\n",
       "      <td>8150.000000</td>\n",
       "      <td>7800.000000</td>\n",
       "    </tr>\n",
       "    <tr>\n",
       "      <th>50%</th>\n",
       "      <td>13250.000000</td>\n",
       "      <td>12000.000000</td>\n",
       "    </tr>\n",
       "    <tr>\n",
       "      <th>75%</th>\n",
       "      <td>20000.000000</td>\n",
       "      <td>19125.000000</td>\n",
       "    </tr>\n",
       "    <tr>\n",
       "      <th>max</th>\n",
       "      <td>35000.000000</td>\n",
       "      <td>40000.000000</td>\n",
       "    </tr>\n",
       "  </tbody>\n",
       "</table>\n",
       "</div>"
      ],
      "text/plain": [
       "loan_status   Charged Off    Fully Paid\n",
       "count          957.000000   4042.000000\n",
       "mean         14985.945664  13882.285997\n",
       "std           8485.661267   8270.168843\n",
       "min           1000.000000    900.000000\n",
       "25%           8150.000000   7800.000000\n",
       "50%          13250.000000  12000.000000\n",
       "75%          20000.000000  19125.000000\n",
       "max          35000.000000  40000.000000"
      ]
     },
     "execution_count": 14,
     "metadata": {},
     "output_type": "execute_result"
    }
   ],
   "source": [
    "df.groupby('loan_status')['loan_amnt'].describe().T"
   ]
  },
  {
   "cell_type": "code",
   "execution_count": 15,
   "id": "77b07193",
   "metadata": {},
   "outputs": [
    {
     "data": {
      "text/plain": [
       "<Axes: xlabel='grade', ylabel='count'>"
      ]
     },
     "execution_count": 15,
     "metadata": {},
     "output_type": "execute_result"
    },
    {
     "data": {
      "image/png": "[encoded data removed]",
      "text/plain": [
       "<Figure size 640x480 with 1 Axes>"
      ]
     },
     "metadata": {},
     "output_type": "display_data"
    }
   ],
   "source": [
    "sns.countplot(x='grade', data=df, hue='loan_status', palette='Paired')"
   ]
  },
  {
   "cell_type": "code",
   "execution_count": 16,
   "id": "e091b246",
   "metadata": {},
   "outputs": [
    {
     "data": {
      "text/html": [
       "<div>\n",
       "<style scoped>\n",
       "    .dataframe tbody tr th:only-of-type {\n",
       "        vertical-align: middle;\n",
       "    }\n",
       "\n",
       "    .dataframe tbody tr th {\n",
       "        vertical-align: top;\n",
       "    }\n",
       "\n",
       "    .dataframe thead th {\n",
       "        text-align: right;\n",
       "    }\n",
       "</style>\n",
       "<table border=\"1\" class=\"dataframe\">\n",
       "  <thead>\n",
       "    <tr style=\"text-align: right;\">\n",
       "      <th></th>\n",
       "      <th>loan_repaid</th>\n",
       "      <th>loan_status</th>\n",
       "    </tr>\n",
       "  </thead>\n",
       "  <tbody>\n",
       "    <tr>\n",
       "      <th>0</th>\n",
       "      <td>1</td>\n",
       "      <td>Fully Paid</td>\n",
       "    </tr>\n",
       "    <tr>\n",
       "      <th>1</th>\n",
       "      <td>1</td>\n",
       "      <td>Fully Paid</td>\n",
       "    </tr>\n",
       "    <tr>\n",
       "      <th>2</th>\n",
       "      <td>1</td>\n",
       "      <td>Fully Paid</td>\n",
       "    </tr>\n",
       "    <tr>\n",
       "      <th>3</th>\n",
       "      <td>1</td>\n",
       "      <td>Fully Paid</td>\n",
       "    </tr>\n",
       "    <tr>\n",
       "      <th>4</th>\n",
       "      <td>0</td>\n",
       "      <td>Charged Off</td>\n",
       "    </tr>\n",
       "    <tr>\n",
       "      <th>5</th>\n",
       "      <td>1</td>\n",
       "      <td>Fully Paid</td>\n",
       "    </tr>\n",
       "    <tr>\n",
       "      <th>6</th>\n",
       "      <td>1</td>\n",
       "      <td>Fully Paid</td>\n",
       "    </tr>\n",
       "    <tr>\n",
       "      <th>7</th>\n",
       "      <td>1</td>\n",
       "      <td>Fully Paid</td>\n",
       "    </tr>\n",
       "    <tr>\n",
       "      <th>8</th>\n",
       "      <td>1</td>\n",
       "      <td>Fully Paid</td>\n",
       "    </tr>\n",
       "    <tr>\n",
       "      <th>9</th>\n",
       "      <td>1</td>\n",
       "      <td>Fully Paid</td>\n",
       "    </tr>\n",
       "  </tbody>\n",
       "</table>\n",
       "</div>"
      ],
      "text/plain": [
       "   loan_repaid  loan_status\n",
       "0            1   Fully Paid\n",
       "1            1   Fully Paid\n",
       "2            1   Fully Paid\n",
       "3            1   Fully Paid\n",
       "4            0  Charged Off\n",
       "5            1   Fully Paid\n",
       "6            1   Fully Paid\n",
       "7            1   Fully Paid\n",
       "8            1   Fully Paid\n",
       "9            1   Fully Paid"
      ]
     },
     "execution_count": 16,
     "metadata": {},
     "output_type": "execute_result"
    }
   ],
   "source": [
    "df['loan_repaid'] = df['loan_status'].apply(lambda x: 1 if x == 'Fully Paid' else 0)\n",
    "df[['loan_repaid', 'loan_status']].head(10)"
   ]
  },
  {
   "cell_type": "code",
   "execution_count": 17,
   "id": "e41c2c02",
   "metadata": {},
   "outputs": [
    {
     "name": "stderr",
     "output_type": "stream",
     "text": [
      "C:\\Users\\MICROSOFT SURFACE\\AppData\\Local\\Temp\\ipykernel_14580\\2179401464.py:1: SettingWithCopyWarning: \n",
      "A value is trying to be set on a copy of a slice from a DataFrame.\n",
      "Try using .loc[row_indexer,col_indexer] = value instead\n",
      "\n",
      "See the caveats in the documentation: https://pandas.pydata.org/pandas-docs/stable/user_guide/indexing.html#returning-a-view-versus-a-copy\n",
      "  numerical_df['loan_repaid'] = df['loan_repaid']\n"
     ]
    },
    {
     "data": {
      "text/plain": [
       "<Axes: >"
      ]
     },
     "execution_count": 17,
     "metadata": {},
     "output_type": "execute_result"
    },
    {
     "data": {
      "image/png": "[encoded data removed]",
      "text/plain": [
       "<Figure size 700x400 with 1 Axes>"
      ]
     },
     "metadata": {},
     "output_type": "display_data"
    }
   ],
   "source": [
    "numerical_df['loan_repaid'] = df['loan_repaid']\n",
    "numerical_df.corr()['loan_repaid'].sort_values().drop('loan_repaid').plot(kind='bar', figsize=(7, 4), color='blue')"
   ]
  },
  {
   "cell_type": "markdown",
   "id": "6499f59a",
   "metadata": {},
   "source": [
    "## Missing Data:"
   ]
  },
  {
   "cell_type": "code",
   "execution_count": 18,
   "id": "2f3230de",
   "metadata": {},
   "outputs": [
    {
     "data": {
      "text/plain": [
       "loan_amnt                 0\n",
       "term                      0\n",
       "int_rate                  0\n",
       "installment               0\n",
       "grade                     0\n",
       "sub_grade                 0\n",
       "emp_title               294\n",
       "emp_length              235\n",
       "home_ownership            0\n",
       "annual_inc                0\n",
       "verification_status       0\n",
       "issue_d                   0\n",
       "loan_status               0\n",
       "purpose                   0\n",
       "title                    20\n",
       "dti                       0\n",
       "earliest_cr_line          0\n",
       "open_acc                  0\n",
       "pub_rec                   0\n",
       "revol_bal                 0\n",
       "revol_util                3\n",
       "total_acc                 0\n",
       "initial_list_status       0\n",
       "application_type          0\n",
       "mort_acc                439\n",
       "pub_rec_bankruptcies      4\n",
       "address                   0\n",
       "loan_repaid               0\n",
       "dtype: int64"
      ]
     },
     "execution_count": 18,
     "metadata": {},
     "output_type": "execute_result"
    }
   ],
   "source": [
    "df.isnull().sum()"
   ]
  },
  {
   "cell_type": "code",
   "execution_count": 19,
   "id": "34453286",
   "metadata": {},
   "outputs": [
    {
     "name": "stdout",
     "output_type": "stream",
     "text": [
      "loan_amnt               0.000000\n",
      "term                    0.000000\n",
      "int_rate                0.000000\n",
      "installment             0.000000\n",
      "grade                   0.000000\n",
      "sub_grade               0.000000\n",
      "emp_title               5.881176\n",
      "emp_length              4.700940\n",
      "home_ownership          0.000000\n",
      "annual_inc              0.000000\n",
      "verification_status     0.000000\n",
      "issue_d                 0.000000\n",
      "loan_status             0.000000\n",
      "purpose                 0.000000\n",
      "title                   0.400080\n",
      "dti                     0.000000\n",
      "earliest_cr_line        0.000000\n",
      "open_acc                0.000000\n",
      "pub_rec                 0.000000\n",
      "revol_bal               0.000000\n",
      "revol_util              0.060012\n",
      "total_acc               0.000000\n",
      "initial_list_status     0.000000\n",
      "application_type        0.000000\n",
      "mort_acc                8.781756\n",
      "pub_rec_bankruptcies    0.080016\n",
      "address                 0.000000\n",
      "loan_repaid             0.000000\n",
      "dtype: float64\n"
     ]
    }
   ],
   "source": [
    "# Percentage of the missing data in each column\n",
    "missing_data = df.isnull().sum() / len(df) * 100\n",
    "print(missing_data)"
   ]
  },
  {
   "cell_type": "code",
   "execution_count": 20,
   "id": "90aa7077",
   "metadata": {},
   "outputs": [
    {
     "data": {
      "text/plain": [
       "array(['Marketing', 'Credit analyst ', 'Statistician', ..., 'Butcher',\n",
       "       'kelco laundry', 'Charter Communications'], dtype=object)"
      ]
     },
     "execution_count": 20,
     "metadata": {},
     "output_type": "execute_result"
    }
   ],
   "source": [
    "df['emp_title'].unique()"
   ]
  },
  {
   "cell_type": "code",
   "execution_count": 21,
   "id": "bde8de66",
   "metadata": {},
   "outputs": [
    {
     "data": {
      "text/plain": [
       "<Axes: xlabel='emp_title'>"
      ]
     },
     "execution_count": 21,
     "metadata": {},
     "output_type": "execute_result"
    },
    {
     "data": {
      "image/png": "[encoded data removed]",
      "text/plain": [
       "<Figure size 1000x500 with 1 Axes>"
      ]
     },
     "metadata": {},
     "output_type": "display_data"
    }
   ],
   "source": [
    "df['emp_title'].value_counts().head(10).plot(kind='bar', figsize=(10, 5), color='lightblue')"
   ]
  },
  {
   "cell_type": "markdown",
   "id": "eacf9554",
   "metadata": {},
   "source": [
    "As there are too many unique job titles to try to convert this to a dummy variable feature. Therefore, it is better to remove this feature:"
   ]
  },
  {
   "cell_type": "code",
   "execution_count": 22,
   "id": "9b540b4f",
   "metadata": {},
   "outputs": [],
   "source": [
    "df = df.drop('emp_title', axis=1)"
   ]
  },
  {
   "cell_type": "code",
   "execution_count": 23,
   "id": "e1176534",
   "metadata": {},
   "outputs": [
    {
     "data": {
      "text/plain": [
       "['1 year',\n",
       " '10+ years',\n",
       " '2 years',\n",
       " '3 years',\n",
       " '4 years',\n",
       " '5 years',\n",
       " '6 years',\n",
       " '7 years',\n",
       " '8 years',\n",
       " '9 years',\n",
       " '< 1 year']"
      ]
     },
     "execution_count": 23,
     "metadata": {},
     "output_type": "execute_result"
    }
   ],
   "source": [
    "sorted(df['emp_length'].dropna().unique())"
   ]
  },
  {
   "cell_type": "code",
   "execution_count": 24,
   "id": "1e72ce48",
   "metadata": {},
   "outputs": [],
   "source": [
    "emp_length_order = [\n",
    "                    '< 1 year',\n",
    "                    '1 year',\n",
    "                    '2 years',\n",
    "                    '3 years',\n",
    "                    '4 years',\n",
    "                    '5 years',\n",
    "                    '6 years',\n",
    "                    '7 years',\n",
    "                    '8 years',\n",
    "                    '9 years',\n",
    "                    '10+ years'\n",
    "                    ]"
   ]
  },
  {
   "cell_type": "code",
   "execution_count": 25,
   "id": "5713d458",
   "metadata": {},
   "outputs": [
    {
     "data": {
      "text/plain": [
       "<Axes: xlabel='emp_length', ylabel='count'>"
      ]
     },
     "execution_count": 25,
     "metadata": {},
     "output_type": "execute_result"
    },
    {
     "data": {
      "image/png": "[encoded data removed]",
      "text/plain": [
       "<Figure size 1200x400 with 1 Axes>"
      ]
     },
     "metadata": {},
     "output_type": "display_data"
    }
   ],
   "source": [
    "plt.figure(figsize=(12,4))\n",
    "sns.countplot(x='emp_length', data=df, order=emp_length_order, hue='loan_status', palette='Paired')"
   ]
  },
  {
   "cell_type": "code",
   "execution_count": 26,
   "id": "bcc1ffb0",
   "metadata": {},
   "outputs": [
    {
     "data": {
      "text/plain": [
       "emp_length\n",
       "< 1 year     18.670077\n",
       "1 year       19.435737\n",
       "2 years      18.901099\n",
       "3 years      19.289340\n",
       "4 years      17.006803\n",
       "5 years      20.000000\n",
       "6 years      15.884477\n",
       "7 years      21.804511\n",
       "8 years      15.767635\n",
       "9 years      22.388060\n",
       "10+ years    18.368618\n",
       "Name: count, dtype: float64"
      ]
     },
     "execution_count": 26,
     "metadata": {},
     "output_type": "execute_result"
    }
   ],
   "source": [
    "# Here we calculate the percentage of charged off loans for each employment length category and order them based on emp_length_order\n",
    "emp_length_counts = df['emp_length'].value_counts().reindex(emp_length_order, fill_value=0)\n",
    "emp_length_charged_off = df[df['loan_status'] == 'Charged Off']['emp_length'].value_counts().reindex(emp_length_order, fill_value=0)\n",
    "emp_length_percentage = (emp_length_charged_off / emp_length_counts) * 100\n",
    "emp_length_percentage"
   ]
  },
  {
   "cell_type": "markdown",
   "id": "30018a1a",
   "metadata": {},
   "source": [
    "As there is no minigful differences between the the percentage of charged off loans for each employment length category, the missing values for this perticular category can be dropped as follows:"
   ]
  },
  {
   "cell_type": "code",
   "execution_count": 27,
   "id": "fed6425d",
   "metadata": {},
   "outputs": [],
   "source": [
    "df = df.drop(columns=['emp_length'], axis=1)"
   ]
  },
  {
   "cell_type": "code",
   "execution_count": 28,
   "id": "845300ee",
   "metadata": {},
   "outputs": [
    {
     "data": {
      "text/plain": [
       "loan_amnt               0.000000\n",
       "term                    0.000000\n",
       "int_rate                0.000000\n",
       "installment             0.000000\n",
       "grade                   0.000000\n",
       "sub_grade               0.000000\n",
       "home_ownership          0.000000\n",
       "annual_inc              0.000000\n",
       "verification_status     0.000000\n",
       "issue_d                 0.000000\n",
       "loan_status             0.000000\n",
       "purpose                 0.000000\n",
       "title                   0.400080\n",
       "dti                     0.000000\n",
       "earliest_cr_line        0.000000\n",
       "open_acc                0.000000\n",
       "pub_rec                 0.000000\n",
       "revol_bal               0.000000\n",
       "revol_util              0.060012\n",
       "total_acc               0.000000\n",
       "initial_list_status     0.000000\n",
       "application_type        0.000000\n",
       "mort_acc                8.781756\n",
       "pub_rec_bankruptcies    0.080016\n",
       "address                 0.000000\n",
       "loan_repaid             0.000000\n",
       "dtype: float64"
      ]
     },
     "execution_count": 28,
     "metadata": {},
     "output_type": "execute_result"
    }
   ],
   "source": [
    "df.isnull().sum()\n",
    "missing_data = df.isnull().sum() / len(df) * 100\n",
    "missing_data"
   ]
  },
  {
   "cell_type": "code",
   "execution_count": 29,
   "id": "abf5ebf8",
   "metadata": {},
   "outputs": [
    {
     "data": {
      "text/plain": [
       "0                   Vacation\n",
       "1         Debt consolidation\n",
       "2    Credit card refinancing\n",
       "3    Credit card refinancing\n",
       "4      Credit Card Refinance\n",
       "5         Debt consolidation\n",
       "6           Home improvement\n",
       "7       No More Credit Cards\n",
       "8         Debt consolidation\n",
       "9         Debt Consolidation\n",
       "Name: title, dtype: object"
      ]
     },
     "execution_count": 29,
     "metadata": {},
     "output_type": "execute_result"
    }
   ],
   "source": [
    "df['title'].head(10)"
   ]
  },
  {
   "cell_type": "markdown",
   "id": "4d6c3c82",
   "metadata": {},
   "source": [
    "As the title column is only the description of the purpose column, we don't need it for the further evaluation by our ANN-based prediction model. Therefore, we can easily drop it as follows:"
   ]
  },
  {
   "cell_type": "code",
   "execution_count": 30,
   "id": "7507302f",
   "metadata": {},
   "outputs": [],
   "source": [
    "df = df.drop(columns=['title'], axis=1)"
   ]
  },
  {
   "cell_type": "code",
   "execution_count": 31,
   "id": "fd3e2439",
   "metadata": {},
   "outputs": [
    {
     "data": {
      "text/plain": [
       "loan_amnt               0.000000\n",
       "term                    0.000000\n",
       "int_rate                0.000000\n",
       "installment             0.000000\n",
       "grade                   0.000000\n",
       "sub_grade               0.000000\n",
       "home_ownership          0.000000\n",
       "annual_inc              0.000000\n",
       "verification_status     0.000000\n",
       "issue_d                 0.000000\n",
       "loan_status             0.000000\n",
       "purpose                 0.000000\n",
       "dti                     0.000000\n",
       "earliest_cr_line        0.000000\n",
       "open_acc                0.000000\n",
       "pub_rec                 0.000000\n",
       "revol_bal               0.000000\n",
       "revol_util              0.060012\n",
       "total_acc               0.000000\n",
       "initial_list_status     0.000000\n",
       "application_type        0.000000\n",
       "mort_acc                8.781756\n",
       "pub_rec_bankruptcies    0.080016\n",
       "address                 0.000000\n",
       "loan_repaid             0.000000\n",
       "dtype: float64"
      ]
     },
     "execution_count": 31,
     "metadata": {},
     "output_type": "execute_result"
    }
   ],
   "source": [
    "df.isnull().sum()\n",
    "missing_data = df.isnull().sum() / len(df) * 100\n",
    "missing_data"
   ]
  },
  {
   "cell_type": "code",
   "execution_count": 32,
   "id": "6e8067b3",
   "metadata": {},
   "outputs": [
    {
     "data": {
      "text/plain": [
       "<Axes: xlabel='mort_acc'>"
      ]
     },
     "execution_count": 32,
     "metadata": {},
     "output_type": "execute_result"
    },
    {
     "data": {
      "image/png": "[encoded data removed]",
      "text/plain": [
       "<Figure size 1000x500 with 1 Axes>"
      ]
     },
     "metadata": {},
     "output_type": "display_data"
    }
   ],
   "source": [
    "df['mort_acc'].value_counts().head(10).plot(kind='bar', figsize=(10, 5), color='lightblue')"
   ]
  },
  {
   "cell_type": "markdown",
   "id": "a0ad930b",
   "metadata": {},
   "source": [
    "As we have valuable information in the column named \"mot_acc (number of mortgage accounts)\", we canno't simply drop the missing values, but we can check if there is a correlation between the features in this dataset with the number of mortgage accounts. If so, we can fill the missing values accordingly."
   ]
  },
  {
   "cell_type": "code",
   "execution_count": 33,
   "id": "1a4670f5",
   "metadata": {},
   "outputs": [
    {
     "data": {
      "text/plain": [
       "<Axes: >"
      ]
     },
     "execution_count": 33,
     "metadata": {},
     "output_type": "execute_result"
    },
    {
     "data": {
      "image/png": "[encoded data removed]",
      "text/plain": [
       "<Figure size 700x400 with 1 Axes>"
      ]
     },
     "metadata": {},
     "output_type": "display_data"
    }
   ],
   "source": [
    "numerical_df.corr()['mort_acc'].sort_values().drop('mort_acc').plot(kind='bar', figsize=(7, 4), color='blue')"
   ]
  },
  {
   "cell_type": "markdown",
   "id": "40eb68d4",
   "metadata": {},
   "source": [
    "As the above plot shows, the number of mortgage accounts correlates well with the total accounts feature. Therefore, we can fill its missing values accodingly:"
   ]
  },
  {
   "cell_type": "code",
   "execution_count": 34,
   "id": "6b18f2fc",
   "metadata": {},
   "outputs": [],
   "source": [
    "total_acc_avg = numerical_df.groupby('total_acc').mean()['mort_acc'].sort_values()"
   ]
  },
  {
   "cell_type": "code",
   "execution_count": 35,
   "id": "8f153364",
   "metadata": {},
   "outputs": [],
   "source": [
    "def fill_mort_acc(total_acc,mort_acc):\n",
    "    if np.isnan(mort_acc):\n",
    "        return total_acc_avg[total_acc]\n",
    "    else:\n",
    "        return mort_acc"
   ]
  },
  {
   "cell_type": "code",
   "execution_count": 36,
   "id": "281e1e43",
   "metadata": {},
   "outputs": [],
   "source": [
    "df['mort_acc'] = df.apply(lambda x: fill_mort_acc(x['total_acc'], x['mort_acc']), axis=1)"
   ]
  },
  {
   "cell_type": "code",
   "execution_count": 37,
   "id": "df2d9f91",
   "metadata": {},
   "outputs": [
    {
     "data": {
      "text/plain": [
       "loan_amnt               0\n",
       "term                    0\n",
       "int_rate                0\n",
       "installment             0\n",
       "grade                   0\n",
       "sub_grade               0\n",
       "home_ownership          0\n",
       "annual_inc              0\n",
       "verification_status     0\n",
       "issue_d                 0\n",
       "loan_status             0\n",
       "purpose                 0\n",
       "dti                     0\n",
       "earliest_cr_line        0\n",
       "open_acc                0\n",
       "pub_rec                 0\n",
       "revol_bal               0\n",
       "revol_util              3\n",
       "total_acc               0\n",
       "initial_list_status     0\n",
       "application_type        0\n",
       "mort_acc                0\n",
       "pub_rec_bankruptcies    3\n",
       "address                 0\n",
       "loan_repaid             0\n",
       "dtype: int64"
      ]
     },
     "execution_count": 37,
     "metadata": {},
     "output_type": "execute_result"
    }
   ],
   "source": [
    "# I have only few missing values in the column 'mort_acc', so I drop them.\n",
    "df = df.dropna(subset=['mort_acc'])\n",
    "df.isnull().sum()\n"
   ]
  },
  {
   "cell_type": "code",
   "execution_count": 38,
   "id": "addedba6",
   "metadata": {},
   "outputs": [
    {
     "data": {
      "text/plain": [
       "loan_amnt              0\n",
       "term                   0\n",
       "int_rate               0\n",
       "installment            0\n",
       "grade                  0\n",
       "sub_grade              0\n",
       "home_ownership         0\n",
       "annual_inc             0\n",
       "verification_status    0\n",
       "issue_d                0\n",
       "loan_status            0\n",
       "purpose                0\n",
       "dti                    0\n",
       "earliest_cr_line       0\n",
       "open_acc               0\n",
       "pub_rec                0\n",
       "revol_bal              0\n",
       "total_acc              0\n",
       "initial_list_status    0\n",
       "application_type       0\n",
       "mort_acc               0\n",
       "address                0\n",
       "loan_repaid            0\n",
       "dtype: int64"
      ]
     },
     "execution_count": 38,
     "metadata": {},
     "output_type": "execute_result"
    }
   ],
   "source": [
    "# Similarly the missing value percentage of the columns \"revol_util\" and \"pub_rec_bankruptcies\" is very low, so we can drop them as well.\n",
    "df = df.drop(columns=['revol_util', 'pub_rec_bankruptcies'], axis=1)\n",
    "df.isnull().sum()"
   ]
  },
  {
   "cell_type": "markdown",
   "id": "4aa66711",
   "metadata": {},
   "source": [
    "## Handling Categorical Data"
   ]
  },
  {
   "cell_type": "code",
   "execution_count": 39,
   "id": "edfe2459",
   "metadata": {},
   "outputs": [
    {
     "data": {
      "text/plain": [
       "Index(['term', 'grade', 'sub_grade', 'home_ownership', 'verification_status',\n",
       "       'issue_d', 'loan_status', 'purpose', 'earliest_cr_line',\n",
       "       'initial_list_status', 'application_type', 'address'],\n",
       "      dtype='object')"
      ]
     },
     "execution_count": 39,
     "metadata": {},
     "output_type": "execute_result"
    }
   ],
   "source": [
    "df.select_dtypes(include=['object']).columns"
   ]
  },
  {
   "cell_type": "code",
   "execution_count": 40,
   "id": "d63beff3",
   "metadata": {},
   "outputs": [
    {
     "data": {
      "text/plain": [
       "term\n",
       "36 months    3849\n",
       "60 months    1149\n",
       "Name: count, dtype: int64"
      ]
     },
     "execution_count": 40,
     "metadata": {},
     "output_type": "execute_result"
    }
   ],
   "source": [
    "df['term'].value_counts()"
   ]
  },
  {
   "cell_type": "markdown",
   "id": "6b3a878e",
   "metadata": {},
   "source": [
    "As important infomation of this feature is the numerical values, we can take them as the value of the feature:"
   ]
  },
  {
   "cell_type": "code",
   "execution_count": 41,
   "id": "2a6fa00e",
   "metadata": {},
   "outputs": [
    {
     "data": {
      "text/plain": [
       "0       36\n",
       "1       36\n",
       "2       36\n",
       "3       36\n",
       "4       60\n",
       "        ..\n",
       "4994    36\n",
       "4995    36\n",
       "4996    60\n",
       "4997    36\n",
       "4998    36\n",
       "Name: term, Length: 4998, dtype: int64"
      ]
     },
     "execution_count": 41,
     "metadata": {},
     "output_type": "execute_result"
    }
   ],
   "source": [
    "df['term'].apply(lambda x: int(x.split()[0]))"
   ]
  },
  {
   "cell_type": "code",
   "execution_count": 42,
   "id": "fc4b0f1f",
   "metadata": {},
   "outputs": [
    {
     "data": {
      "text/plain": [
       "term\n",
       "36    3849\n",
       "60    1149\n",
       "Name: count, dtype: int64"
      ]
     },
     "execution_count": 42,
     "metadata": {},
     "output_type": "execute_result"
    }
   ],
   "source": [
    "df['term'] = df['term'].apply(lambda x: int(x.split()[0]))\n",
    "df['term'].value_counts()"
   ]
  },
  {
   "cell_type": "markdown",
   "id": "5b0ca349",
   "metadata": {},
   "source": [
    "As the feature \"grade\" is part of sub_grade, se we can just simply drop the \"grade\" feature:"
   ]
  },
  {
   "cell_type": "code",
   "execution_count": 43,
   "id": "74ff58a4",
   "metadata": {},
   "outputs": [],
   "source": [
    "df = df.drop(columns=['grade'], axis=1)"
   ]
  },
  {
   "cell_type": "markdown",
   "id": "ed4bcc1b",
   "metadata": {},
   "source": [
    "We can convert subgrade into dumy variables, and concatenate these new columns to the original dataframe, and drop the original subgrade column."
   ]
  },
  {
   "cell_type": "code",
   "execution_count": 44,
   "id": "e1f29622",
   "metadata": {},
   "outputs": [],
   "source": [
    "dummy_variables = pd.get_dummies(df['sub_grade'], drop_first=True)"
   ]
  },
  {
   "cell_type": "code",
   "execution_count": 45,
   "id": "5707421e",
   "metadata": {},
   "outputs": [],
   "source": [
    "df = pd.concat([df.drop(columns=['sub_grade'], axis=1), dummy_variables], axis=1)"
   ]
  },
  {
   "cell_type": "code",
   "execution_count": 46,
   "id": "6d2fc913",
   "metadata": {},
   "outputs": [
    {
     "data": {
      "text/plain": [
       "Index(['loan_amnt', 'term', 'int_rate', 'installment', 'home_ownership',\n",
       "       'annual_inc', 'verification_status', 'issue_d', 'loan_status',\n",
       "       'purpose', 'dti', 'earliest_cr_line', 'open_acc', 'pub_rec',\n",
       "       'revol_bal', 'total_acc', 'initial_list_status', 'application_type',\n",
       "       'mort_acc', 'address', 'loan_repaid', 'A2', 'A3', 'A4', 'A5', 'B1',\n",
       "       'B2', 'B3', 'B4', 'B5', 'C1', 'C2', 'C3', 'C4', 'C5', 'D1', 'D2', 'D3',\n",
       "       'D4', 'D5', 'E1', 'E2', 'E3', 'E4', 'E5', 'F1', 'F2', 'F3', 'F4', 'F5',\n",
       "       'G1', 'G2', 'G3', 'G4', 'G5'],\n",
       "      dtype='object')"
      ]
     },
     "execution_count": 46,
     "metadata": {},
     "output_type": "execute_result"
    }
   ],
   "source": [
    "df.columns"
   ]
  },
  {
   "cell_type": "markdown",
   "id": "f6987068",
   "metadata": {},
   "source": [
    "Now, we can do the same for the remaning categorical features as follows:"
   ]
  },
  {
   "cell_type": "code",
   "execution_count": 47,
   "id": "b3c00c2d",
   "metadata": {},
   "outputs": [],
   "source": [
    "dummy_variables = pd.get_dummies(df[['verification_status', 'application_type','initial_list_status','purpose' ]], drop_first=True)\n",
    "df = df.drop(['verification_status', 'application_type','initial_list_status','purpose'], axis=1)\n",
    "df = pd.concat([df, dummy_variables], axis=1)"
   ]
  },
  {
   "cell_type": "code",
   "execution_count": 48,
   "id": "745af944",
   "metadata": {},
   "outputs": [
    {
     "data": {
      "text/plain": [
       "Index(['loan_amnt', 'term', 'int_rate', 'installment', 'home_ownership',\n",
       "       'annual_inc', 'issue_d', 'loan_status', 'dti', 'earliest_cr_line',\n",
       "       'open_acc', 'pub_rec', 'revol_bal', 'total_acc', 'mort_acc', 'address',\n",
       "       'loan_repaid', 'A2', 'A3', 'A4', 'A5', 'B1', 'B2', 'B3', 'B4', 'B5',\n",
       "       'C1', 'C2', 'C3', 'C4', 'C5', 'D1', 'D2', 'D3', 'D4', 'D5', 'E1', 'E2',\n",
       "       'E3', 'E4', 'E5', 'F1', 'F2', 'F3', 'F4', 'F5', 'G1', 'G2', 'G3', 'G4',\n",
       "       'G5', 'verification_status_Source Verified',\n",
       "       'verification_status_Verified', 'application_type_INDIVIDUAL',\n",
       "       'application_type_JOINT', 'initial_list_status_w',\n",
       "       'purpose_credit_card', 'purpose_debt_consolidation',\n",
       "       'purpose_educational', 'purpose_home_improvement', 'purpose_house',\n",
       "       'purpose_major_purchase', 'purpose_medical', 'purpose_moving',\n",
       "       'purpose_other', 'purpose_renewable_energy', 'purpose_small_business',\n",
       "       'purpose_vacation', 'purpose_wedding'],\n",
       "      dtype='object')"
      ]
     },
     "execution_count": 48,
     "metadata": {},
     "output_type": "execute_result"
    }
   ],
   "source": [
    "df.columns"
   ]
  },
  {
   "cell_type": "code",
   "execution_count": 49,
   "id": "c8c630ab",
   "metadata": {},
   "outputs": [
    {
     "data": {
      "text/plain": [
       "Index(['home_ownership', 'issue_d', 'loan_status', 'earliest_cr_line',\n",
       "       'address'],\n",
       "      dtype='object')"
      ]
     },
     "execution_count": 49,
     "metadata": {},
     "output_type": "execute_result"
    }
   ],
   "source": [
    "df.select_dtypes(include=['object']).columns"
   ]
  },
  {
   "cell_type": "markdown",
   "id": "0de92038",
   "metadata": {},
   "source": [
    "Now we can review the value_counts for the home_ownership column:"
   ]
  },
  {
   "cell_type": "code",
   "execution_count": 50,
   "id": "cb4e2a0f",
   "metadata": {},
   "outputs": [
    {
     "data": {
      "text/plain": [
       "home_ownership\n",
       "MORTGAGE    2455\n",
       "RENT        2086\n",
       "OWN          457\n",
       "Name: count, dtype: int64"
      ]
     },
     "execution_count": 50,
     "metadata": {},
     "output_type": "execute_result"
    }
   ],
   "source": [
    "df['home_ownership'].value_counts()"
   ]
  },
  {
   "cell_type": "markdown",
   "id": "aac5df1c",
   "metadata": {},
   "source": [
    "Now, we can convert these to dummy variables, but we replace NONE and ANY with OTHER, so that we end up with just 4 categories, MORTGAGE, RENT, OWN, OTHER. Then concatenate them with the original dataframe:"
   ]
  },
  {
   "cell_type": "code",
   "execution_count": 51,
   "id": "be3aa038",
   "metadata": {},
   "outputs": [],
   "source": [
    "df['home_ownership']=df['home_ownership'].replace(['NONE', 'ANY'], 'OTHER')\n",
    "dummy_variables = pd.get_dummies(df['home_ownership'], drop_first=True)\n",
    "df = df.drop('home_ownership', axis=1)\n",
    "df = pd.concat([df, dummy_variables], axis=1)"
   ]
  },
  {
   "cell_type": "code",
   "execution_count": 52,
   "id": "84db5d09",
   "metadata": {},
   "outputs": [
    {
     "data": {
      "text/plain": [
       "Index(['issue_d', 'loan_status', 'earliest_cr_line', 'address'], dtype='object')"
      ]
     },
     "execution_count": 52,
     "metadata": {},
     "output_type": "execute_result"
    }
   ],
   "source": [
    "df.select_dtypes(include=['object']).columns"
   ]
  },
  {
   "cell_type": "markdown",
   "id": "736944d4",
   "metadata": {},
   "source": [
    "Regarding the \"address\" feature, we can create a column called 'zip_code' that extracts the zip code from the address feature:"
   ]
  },
  {
   "cell_type": "code",
   "execution_count": 53,
   "id": "c05376d4",
   "metadata": {},
   "outputs": [],
   "source": [
    "df['zip_code'] = df['address'].apply(lambda address: address[-5:])"
   ]
  },
  {
   "cell_type": "markdown",
   "id": "68ffa89e",
   "metadata": {},
   "source": [
    "Now we make this zip_code column into dummy variables and concatenate the result and drop the original zip_code column along with dropping the address column:"
   ]
  },
  {
   "cell_type": "code",
   "execution_count": 54,
   "id": "6025ef62",
   "metadata": {},
   "outputs": [],
   "source": [
    "dummy_variables = pd.get_dummies(df['zip_code'], drop_first=True)\n",
    "df = df.drop(['zip_code','address'], axis=1)\n",
    "df = pd.concat([df,dummy_variables], axis=1)"
   ]
  },
  {
   "cell_type": "code",
   "execution_count": 55,
   "id": "be04d0e1",
   "metadata": {},
   "outputs": [
    {
     "data": {
      "text/plain": [
       "Index(['issue_d', 'loan_status', 'earliest_cr_line'], dtype='object')"
      ]
     },
     "execution_count": 55,
     "metadata": {},
     "output_type": "execute_result"
    }
   ],
   "source": [
    "df.select_dtypes(include=['object']).columns"
   ]
  },
  {
   "cell_type": "markdown",
   "id": "9296756b",
   "metadata": {},
   "source": [
    "Regarding to the \"issue_d\" (issue date) feature, it would be data leakage, we wouldn't know beforehand whether or not a loan would be issued when using our model, so in theory we wouldn't have an issue_date, drop this feature:"
   ]
  },
  {
   "cell_type": "code",
   "execution_count": 56,
   "id": "96bca5e3",
   "metadata": {},
   "outputs": [],
   "source": [
    "df = df.drop('issue_d', axis=1)"
   ]
  },
  {
   "cell_type": "code",
   "execution_count": 57,
   "id": "b208e68d",
   "metadata": {},
   "outputs": [
    {
     "data": {
      "text/plain": [
       "Index(['loan_status', 'earliest_cr_line'], dtype='object')"
      ]
     },
     "execution_count": 57,
     "metadata": {},
     "output_type": "execute_result"
    }
   ],
   "source": [
    "df.select_dtypes(include=['object']).columns"
   ]
  },
  {
   "cell_type": "markdown",
   "id": "a6cc1d1f",
   "metadata": {},
   "source": [
    "\"earliest_cr_line\" feature appears to be a historical time stamp feature. So, we extract the year from this feature, then we can convert it to a numeric feature 'earliest_cr_year', and drop the earliest_cr_line feature:"
   ]
  },
  {
   "cell_type": "code",
   "execution_count": 58,
   "id": "6050bb61",
   "metadata": {},
   "outputs": [],
   "source": [
    "df['earliest_cr_year'] = df['earliest_cr_line'].apply(lambda date:int(date[-4:]))\n",
    "df = df.drop('earliest_cr_line', axis=1)\n"
   ]
  },
  {
   "cell_type": "code",
   "execution_count": 59,
   "id": "3c5a030d",
   "metadata": {},
   "outputs": [
    {
     "data": {
      "text/plain": [
       "Index(['loan_status'], dtype='object')"
      ]
     },
     "execution_count": 59,
     "metadata": {},
     "output_type": "execute_result"
    }
   ],
   "source": [
    "df.select_dtypes(include=['object']).columns"
   ]
  },
  {
   "cell_type": "markdown",
   "id": "7c6513bd",
   "metadata": {},
   "source": [
    "Finally we can drop the \"loan_status\" feature as it is the a duplicate of the loan_repaid column:"
   ]
  },
  {
   "cell_type": "code",
   "execution_count": 61,
   "id": "4b8dcadb",
   "metadata": {},
   "outputs": [],
   "source": [
    "df = df.drop('loan_status', axis=1)  "
   ]
  },
  {
   "cell_type": "code",
   "execution_count": 62,
   "id": "ae238215",
   "metadata": {},
   "outputs": [
    {
     "data": {
      "text/plain": [
       "Index([], dtype='object')"
      ]
     },
     "execution_count": 62,
     "metadata": {},
     "output_type": "execute_result"
    }
   ],
   "source": [
    "df.select_dtypes(include=['object']).columns"
   ]
  },
  {
   "cell_type": "markdown",
   "id": "f19ba6df",
   "metadata": {},
   "source": [
    "## Saving the data as a csv file:"
   ]
  },
  {
   "cell_type": "code",
   "execution_count": 65,
   "id": "c2bff5e5",
   "metadata": {},
   "outputs": [],
   "source": [
    "df.to_csv(\"../Input_Data_File/lending_club_loan.csv\", index=False)\n"
   ]
  }
 ],
 "metadata": {
  "kernelspec": {
   "display_name": "Python 3",
   "language": "python",
   "name": "python3"
  },
  "language_info": {
   "codemirror_mode": {
    "name": "ipython",
    "version": 3
   },
   "file_extension": ".py",
   "mimetype": "text/x-python",
   "name": "python",
   "nbconvert_exporter": "python",
   "pygments_lexer": "ipython3",
   "version": "3.9.0"
  }
 },
 "nbformat": 4,
 "nbformat_minor": 5
}
