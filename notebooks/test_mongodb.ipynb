{
 "cells": [
  {
   "cell_type": "code",
   "execution_count": 3,
   "id": "7a2978e9",
   "metadata": {},
   "outputs": [
    {
     "name": "stdout",
     "output_type": "stream",
     "text": [
      "                        _id  loan_amnt  term  int_rate  installment  \\\n",
      "0  687679cb531566eacbda1c4e    14000.0    60     14.49       329.33   \n",
      "1  687679cb531566eacbda1c4f     6050.0    36     16.29       213.57   \n",
      "2  687679cb531566eacbda1c50    20775.0    36     18.24       753.57   \n",
      "3  687679cb531566eacbda1c51     6000.0    36     13.99       205.04   \n",
      "4  687679cb531566eacbda1c52    17450.0    36     13.11       588.89   \n",
      "\n",
      "   annual_inc    dti  open_acc  pub_rec  revol_bal  ...  05113  11650  22690  \\\n",
      "0     80000.0  17.04      10.0      0.0    12223.0  ...  False  False   True   \n",
      "1     20400.0  28.08      11.0      0.0     2577.0  ...  False  False  False   \n",
      "2     65000.0  15.30       9.0      0.0    21872.0  ...  False  False  False   \n",
      "3     38848.0  16.59      17.0      4.0     6873.0  ...  False  False  False   \n",
      "4     65000.0  12.06      11.0      0.0    30557.0  ...  False  False  False   \n",
      "\n",
      "   29597  30723  48052  70466  86630  93700  earliest_cr_year  \n",
      "0  False  False  False  False  False  False              1989  \n",
      "1  False  False  False  False  False  False              2004  \n",
      "2  False  False  False   True  False  False              2008  \n",
      "3  False  False  False  False  False   True              1984  \n",
      "4  False  False  False  False  False  False              1992  \n",
      "\n",
      "[5 rows x 78 columns]\n"
     ]
    }
   ],
   "source": [
    "from pymongo import MongoClient\n",
    "import pandas as pd\n",
    "import os\n",
    "\n",
    "from dotenv import load_dotenv\n",
    "\n",
    "\n",
    "load_dotenv()\n",
    "\n",
    "MONGO_DB_URL=os.getenv(\"MONGO_DB_URL\")\n",
    "\n",
    "client = MongoClient(MONGO_DB_URL)\n",
    "db = client[\"HOSSEINAI\"]\n",
    "collection = db[\"PROJECTDATA\"]\n",
    "\n",
    "data = list(collection.find().limit(5))  # test sample\n",
    "df = pd.DataFrame(data)\n",
    "print(df.head())\n"
   ]
  }
 ],
 "metadata": {
  "kernelspec": {
   "display_name": "lending_club_loan_ANN",
   "language": "python",
   "name": "python3"
  },
  "language_info": {
   "codemirror_mode": {
    "name": "ipython",
    "version": 3
   },
   "file_extension": ".py",
   "mimetype": "text/x-python",
   "name": "python",
   "nbconvert_exporter": "python",
   "pygments_lexer": "ipython3",
   "version": "-1.-1.-1"
  }
 },
 "nbformat": 4,
 "nbformat_minor": 5
}
